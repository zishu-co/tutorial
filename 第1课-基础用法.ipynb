{
 "cells": [
  {
   "cell_type": "code",
   "execution_count": 3,
   "id": "426446fd",
   "metadata": {},
   "outputs": [
    {
     "name": "stdout",
     "output_type": "stream",
     "text": [
      "Hello World!\n"
     ]
    }
   ],
   "source": [
    "const hello : string = \"Hello World!\"\n",
    "console.log(hello);"
   ]
  },
  {
   "cell_type": "code",
   "execution_count": 4,
   "id": "6885bdfd",
   "metadata": {},
   "outputs": [
    {
     "name": "stdout",
     "output_type": "stream",
     "text": [
      "\u001b[33m12\u001b[39m\n"
     ]
    }
   ],
   "source": [
    "var num1:number = 10\n",
    "var num2:number = 2\n",
    "var res:number = 0\n",
    "   \n",
    "res = num1 + num2\n",
    "console.log(res);"
   ]
  },
  {
   "cell_type": "code",
   "execution_count": 5,
   "id": "e93f0095",
   "metadata": {},
   "outputs": [
    {
     "data": {
      "text/html": [
       "Hello <span style=\"color:#007ACC;font-size:x-large\"><b>Type</b>Script</span>!"
      ]
     },
     "metadata": {},
     "output_type": "display_data"
    }
   ],
   "source": [
    "import * as tslab from 'tslab';\n",
    "tslab.display.html('Hello <span style=\"color:#007ACC;font-size:x-large\"><b>Type</b>Script</span>!')"
   ]
  },
  {
   "cell_type": "code",
   "execution_count": 6,
   "id": "6b2e814b",
   "metadata": {},
   "outputs": [
    {
     "name": "stdout",
     "output_type": "stream",
     "text": [
      "5 的阶乘为：120\n"
     ]
    }
   ],
   "source": [
    "var num:number = 5; \n",
    "var factorial:number = 1; \n",
    "while(num >=1) { \n",
    "    factorial = factorial * num; \n",
    "    num--; \n",
    "} \n",
    "console.log(\"5 的阶乘为：\"+ factorial);"
   ]
  },
  {
   "cell_type": "code",
   "execution_count": 7,
   "id": "a77f69ac-441f-4b3f-96e3-a3c77788dfe7",
   "metadata": {},
   "outputs": [
    {
     "name": "stderr",
     "output_type": "stream",
     "text": [
      "2:29 - Property 'length' does not exist on type 'string'.\n"
     ]
    }
   ],
   "source": [
    "var uname = \"Hello World\"\n",
    "console.log(\"Length \"+uname.length)  // 输出 11"
   ]
  },
  {
   "cell_type": "code",
   "execution_count": 8,
   "id": "689a2a58-c3ef-4b11-b223-7cb002b71ca2",
   "metadata": {},
   "outputs": [
    {
     "name": "stderr",
     "output_type": "stream",
     "text": [
      "1:1 - The left-hand side of an arithmetic operation must be of type 'any', 'number', 'bigint' or an enum type.\n",
      "1:2 - Cannot find name 'npm'.\n",
      "1:7 - Cannot find name 'v'.\n"
     ]
    }
   ],
   "source": []
  }
 ],
 "metadata": {
  "kernelspec": {
   "display_name": "TypeScript",
   "language": "typescript",
   "name": "tslab"
  },
  "language_info": {
   "codemirror_mode": {
    "mode": "typescript",
    "name": "javascript",
    "typescript": true
   },
   "file_extension": ".ts",
   "mimetype": "text/typescript",
   "name": "typescript",
   "version": "3.7.2"
  }
 },
 "nbformat": 4,
 "nbformat_minor": 5
}
